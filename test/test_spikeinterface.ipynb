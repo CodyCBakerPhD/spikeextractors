{
 "cells": [
  {
   "cell_type": "code",
   "execution_count": 1,
   "metadata": {},
   "outputs": [],
   "source": [
    "# For development purposes, reload imported modules when source changes\n",
    "%load_ext autoreload\n",
    "%autoreload 2\n",
    "\n",
    "def append_to_path(dir0): # A convenience function\n",
    "    if dir0 not in sys.path:\n",
    "        sys.path.append(dir0)\n",
    "\n",
    "import os, sys\n",
    "append_to_path(os.getcwd()+'/..')\n",
    "\n",
    "import spikeinterface as si"
   ]
  },
  {
   "cell_type": "code",
   "execution_count": 2,
   "metadata": {},
   "outputs": [],
   "source": [
    "A=si.MdaInputExtractor(dataset_directory='kbucket://b5ecdf1474c5/datasets/synth_datasets/datasets/synth_tetrode_30min',download=False)"
   ]
  },
  {
   "cell_type": "code",
   "execution_count": 3,
   "metadata": {},
   "outputs": [
    {
     "data": {
      "text/plain": [
       "4"
      ]
     },
     "execution_count": 3,
     "metadata": {},
     "output_type": "execute_result"
    }
   ],
   "source": [
    "A.getNumChannels()"
   ]
  },
  {
   "cell_type": "code",
   "execution_count": 2,
   "metadata": {},
   "outputs": [
    {
     "name": "stdout",
     "output_type": "stream",
     "text": [
      "Downloading file if needed: kbucket://b5ecdf1474c5/datasets/synth_datasets/datasets/synth_tetrode_30min/firings_true.mda\n",
      "Done.\n"
     ]
    }
   ],
   "source": [
    "B=si.MdaOutputExtractor(firings_file='kbucket://b5ecdf1474c5/datasets/synth_datasets/datasets/synth_tetrode_30min/firings_true.mda')"
   ]
  },
  {
   "cell_type": "code",
   "execution_count": 3,
   "metadata": {},
   "outputs": [
    {
     "data": {
      "text/plain": [
       "array([  2.71249481e+03,   1.22188979e+04,   1.83042929e+04, ...,\n",
       "         5.39305688e+07,   5.39829415e+07,   5.39836896e+07])"
      ]
     },
     "execution_count": 3,
     "metadata": {},
     "output_type": "execute_result"
    }
   ],
   "source": [
    "B.getUnitSpikeTrain(unit_id=0)"
   ]
  },
  {
   "cell_type": "code",
   "execution_count": 3,
   "metadata": {},
   "outputs": [],
   "source": [
    "A2=si.MEArecInputExtractor(recording_file='/home/magland/src/MEArec/testing.h5')"
   ]
  },
  {
   "cell_type": "code",
   "execution_count": 4,
   "metadata": {},
   "outputs": [
    {
     "name": "stdout",
     "output_type": "stream",
     "text": [
      "Loading recordings from file...\n",
      "Done loading recordings...\n"
     ]
    },
    {
     "data": {
      "text/plain": [
       "array(32.0) * kHz"
      ]
     },
     "execution_count": 4,
     "metadata": {},
     "output_type": "execute_result"
    }
   ],
   "source": [
    "A2.getSamplingFrequency()"
   ]
  },
  {
   "cell_type": "code",
   "execution_count": 8,
   "metadata": {},
   "outputs": [
    {
     "data": {
      "text/plain": [
       "array([[ -0.88072812,  -5.32583076,  -8.54244605, ...,   8.1094387 ,\n",
       "          4.27526553,   0.94391952],\n",
       "       [  0.37944483,  -7.743188  , -10.28194253, ...,  -4.62513406,\n",
       "         -2.25646605,   2.75676925],\n",
       "       [  0.18890199,  -0.1783047 ,   0.41802365, ...,   5.0735537 ,\n",
       "          2.5917325 ,   3.42443996],\n",
       "       ..., \n",
       "       [ -1.8630937 ,   2.97215478,   5.47566562, ...,   8.88349983,\n",
       "          4.70270052,   0.39597093],\n",
       "       [  2.70893086,   3.63186389,   2.77397308, ...,   4.6662216 ,\n",
       "          2.23474518,   0.53752866],\n",
       "       [ -0.66791042,   5.33702752,   7.12076802, ...,   2.2284455 ,\n",
       "         -1.32397735,  -0.84702806]])"
      ]
     },
     "execution_count": 8,
     "metadata": {},
     "output_type": "execute_result"
    }
   ],
   "source": [
    "A2.getRawTraces()"
   ]
  },
  {
   "cell_type": "code",
   "execution_count": null,
   "metadata": {},
   "outputs": [],
   "source": []
  }
 ],
 "metadata": {
  "kernelspec": {
   "display_name": "Python 3",
   "language": "python",
   "name": "python3"
  },
  "language_info": {
   "codemirror_mode": {
    "name": "ipython",
    "version": 3
   },
   "file_extension": ".py",
   "mimetype": "text/x-python",
   "name": "python",
   "nbconvert_exporter": "python",
   "pygments_lexer": "ipython3",
   "version": "3.6.2"
  }
 },
 "nbformat": 4,
 "nbformat_minor": 2
}
