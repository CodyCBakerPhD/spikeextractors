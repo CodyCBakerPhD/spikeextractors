{
 "cells": [
  {
   "cell_type": "code",
   "execution_count": 25,
   "metadata": {},
   "outputs": [],
   "source": [
    "# Imports\n",
    "import numpy as np\n",
    "import spikeinterface as si"
   ]
  },
  {
   "cell_type": "code",
   "execution_count": 26,
   "metadata": {},
   "outputs": [],
   "source": [
    "# Properties of the in-memory dataset\n",
    "num_channels=7\n",
    "samplerate=30000\n",
    "duration=20\n",
    "num_timepoints=int(samplerate*duration)\n",
    "num_units=4\n",
    "num_events=1000"
   ]
  },
  {
   "cell_type": "code",
   "execution_count": 27,
   "metadata": {},
   "outputs": [],
   "source": [
    "# Generate a pure-noise timeseries dataset and a linear geometry\n",
    "timeseries=np.random.normal(0,10,(num_channels,num_timepoints))\n",
    "geom=np.zeros((num_channels,2))\n",
    "geom[:,0]=range(num_channels)\n",
    "\n",
    "# Define the in-memory input extractor\n",
    "IX=si.NumpyInputExtractor(timeseries=timeseries,geom=geom,samplerate=samplerate)\n",
    "\n",
    "# Generate some random events\n",
    "times=np.sort(np.random.uniform(0,num_timepoints,num_events))\n",
    "labels=np.random.randint(1,num_units+1,size=num_events)\n",
    "    \n",
    "# Define the in-memory output extractor\n",
    "OX=si.NumpyOutputExtractor()\n",
    "for k in range(1,num_units+1):\n",
    "    times_k=times[np.where(labels==k)[0]]\n",
    "    OX.addUnit(unit_id=k,times=times_k)"
   ]
  },
  {
   "cell_type": "code",
   "execution_count": 28,
   "metadata": {},
   "outputs": [
    {
     "name": "stdout",
     "output_type": "stream",
     "text": [
      "Unit ids = [1, 2, 3, 4]\n",
      "Num. events for unit 1 = 234\n",
      "Num. events for first second of unit 1 = 16\n"
     ]
    }
   ],
   "source": [
    "# Demonstrate the API for extracting information\n",
    "print('Unit ids = {}'.format(OX.getUnitIds()))\n",
    "st=OX.getUnitSpikeTrain(unit_id=1)\n",
    "print('Num. events for unit 1 = {}'.format(len(st)))\n",
    "st1=OX.getUnitSpikeTrain(unit_id=1,start_frame=0,end_frame=30000)\n",
    "print('Num. events for first second of unit 1 = {}'.format(len(st1)))"
   ]
  },
  {
   "cell_type": "code",
   "execution_count": 29,
   "metadata": {},
   "outputs": [],
   "source": [
    "# Write the input/output in the MountainSort format\n",
    "si.MdaInputExtractor.writeDataset(input_extractor=IX,output_dirname='sample_mountainsort_dataset')\n",
    "si.MdaOutputExtractor.writeFirings(output_extractor=OX,firings_out='sample_mountainsort_dataset/firings_true.mda')"
   ]
  },
  {
   "cell_type": "code",
   "execution_count": 30,
   "metadata": {},
   "outputs": [],
   "source": [
    "# Read this dataset with the Mda input extractor\n",
    "IX2=si.MdaInputExtractor(dataset_directory='sample_mountainsort_dataset')\n",
    "OX2=si.MdaOutputExtractor(firings_file='sample_mountainsort_dataset/firings_true.mda')"
   ]
  },
  {
   "cell_type": "code",
   "execution_count": 31,
   "metadata": {},
   "outputs": [
    {
     "name": "stdout",
     "output_type": "stream",
     "text": [
      "Unit ids = [1, 2, 3, 4]\n",
      "Num. events for unit 1 = 234\n",
      "Num. events for first second of unit 1 = 16\n"
     ]
    }
   ],
   "source": [
    "# We should get he same information as above\n",
    "print('Unit ids = {}'.format(OX.getUnitIds()))\n",
    "st=OX2.getUnitSpikeTrain(unit_id=1)\n",
    "print('Num. events for unit 1 = {}'.format(len(st)))\n",
    "st1=OX2.getUnitSpikeTrain(unit_id=1,start_frame=0,end_frame=30000)\n",
    "print('Num. events for first second of unit 1 = {}'.format(len(st1)))"
   ]
  },
  {
   "cell_type": "code",
   "execution_count": 32,
   "metadata": {},
   "outputs": [
    {
     "name": "stdout",
     "output_type": "stream",
     "text": [
      "The autoreload extension is already loaded. To reload it, use:\n",
      "  %reload_ext autoreload\n"
     ]
    }
   ],
   "source": [
    "# For development purposes, reload imported modules when source changes\n",
    "%load_ext autoreload\n",
    "%autoreload 2"
   ]
  },
  {
   "cell_type": "code",
   "execution_count": 33,
   "metadata": {},
   "outputs": [],
   "source": [
    "# Note that the following only works if you point the below path to the spike-collab directory\n",
    "\n",
    "import sys, os\n",
    "sys.path.append(os.getcwd()+'/../../spike-collab')\n",
    "from widgets import TimeseriesWidget\n",
    "from widgets import UnitWaveformsWidget"
   ]
  },
  {
   "cell_type": "code",
   "execution_count": null,
   "metadata": {},
   "outputs": [],
   "source": [
    "TimeseriesWidget(input_extractor=IX).plot()"
   ]
  },
  {
   "cell_type": "code",
   "execution_count": null,
   "metadata": {},
   "outputs": [],
   "source": [
    "UnitWaveformsWidget(input_extractor=IX2,output_extractor=OX2).plot()"
   ]
  }
 ],
 "metadata": {
  "kernelspec": {
   "display_name": "Python 3",
   "language": "python",
   "name": "python3"
  },
  "language_info": {
   "codemirror_mode": {
    "name": "ipython",
    "version": 3
   },
   "file_extension": ".py",
   "mimetype": "text/x-python",
   "name": "python",
   "nbconvert_exporter": "python",
   "pygments_lexer": "ipython3",
   "version": "3.6.2"
  }
 },
 "nbformat": 4,
 "nbformat_minor": 2
}
