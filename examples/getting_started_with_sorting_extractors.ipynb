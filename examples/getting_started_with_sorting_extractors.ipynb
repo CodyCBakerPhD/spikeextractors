{
 "cells": [
  {
   "cell_type": "code",
   "execution_count": 1,
   "metadata": {},
   "outputs": [],
   "source": [
    "# Imports\n",
    "import numpy as np\n",
    "import spikeinterface as si"
   ]
  },
  {
   "cell_type": "code",
   "execution_count": 2,
   "metadata": {},
   "outputs": [],
   "source": [
    "# Properties of the in-memory dataset\n",
    "num_channels=7\n",
    "samplerate=30000\n",
    "duration=20\n",
    "num_timepoints=int(samplerate*duration)\n",
    "num_units=4\n",
    "num_events=1000"
   ]
  },
  {
   "cell_type": "code",
   "execution_count": 16,
   "metadata": {},
   "outputs": [],
   "source": [
    "# Generate a pure-noise timeseries dataset and a linear geometry\n",
    "timeseries=np.random.normal(0,10,(num_channels,num_timepoints))\n",
    "geom=np.zeros((num_channels,2))\n",
    "geom[:,0]=range(num_channels)\n",
    "\n",
    "# Define the in-memory recording extractor\n",
    "RX=si.NumpyRecordingExtractor(timeseries=timeseries,geom=geom,samplerate=samplerate)\n",
    "\n",
    "# Generate some random events\n",
    "times=np.int_(np.sort(np.random.uniform(0,num_timepoints,num_events)))\n",
    "labels=np.random.randint(1,num_units+1,size=num_events)\n",
    "    \n",
    "# Define the in-memory sorting extractor\n",
    "SX=si.NumpySortingExtractor()\n",
    "for k in range(1,num_units+1):\n",
    "    times_k=times[np.where(labels==k)[0]]\n",
    "    SX.addUnit(unit_id=k,times=times_k)"
   ]
  },
  {
   "cell_type": "code",
   "execution_count": 27,
   "metadata": {},
   "outputs": [
    {
     "name": "stdout",
     "output_type": "stream",
     "text": [
      "Unit ids = [1, 2, 3, 4]\n",
      "Num. events for unit 1 = 253\n",
      "Num. events for first second of unit 1 = 14\n"
     ]
    },
    {
     "data": {
      "text/plain": [
       "array([ 1396,  1727,  1785,  4917,  8282, 11792, 13455, 15190, 18960,\n",
       "       21855, 22685, 24976, 28039, 29052])"
      ]
     },
     "execution_count": 27,
     "metadata": {},
     "output_type": "execute_result"
    }
   ],
   "source": [
    "# Demonstrate the API for extracting information\n",
    "print('Unit ids = {}'.format(SX.getUnitIds()))\n",
    "st=SX.getUnitSpikeTrain(unit_id=1)\n",
    "print('Num. events for unit 1 = {}'.format(len(st)))\n",
    "st1=SX.getUnitSpikeTrain(unit_id=1,start_frame=0,end_frame=30000)\n",
    "print('Num. events for first second of unit 1 = {}'.format(len(st1)))"
   ]
  },
  {
   "cell_type": "code",
   "execution_count": 18,
   "metadata": {},
   "outputs": [],
   "source": [
    "# Write the input/output in the MountainSort format\n",
    "si.MdaRecordingExtractor.writeRecording(recording_extractor=RX,save_path='sample_mountainsort_dataset')\n",
    "si.MdaSortingExtractor.writeSorting(sorting_extractor=SX,save_path='sample_mountainsort_dataset/firings_true.mda')"
   ]
  },
  {
   "cell_type": "code",
   "execution_count": 19,
   "metadata": {},
   "outputs": [],
   "source": [
    "# Read this dataset with the Mda input extractor\n",
    "RX2=si.MdaRecordingExtractor(dataset_directory='sample_mountainsort_dataset')\n",
    "SX2=si.MdaSortingExtractor(firings_file='sample_mountainsort_dataset/firings_true.mda')"
   ]
  },
  {
   "cell_type": "code",
   "execution_count": 26,
   "metadata": {},
   "outputs": [
    {
     "name": "stdout",
     "output_type": "stream",
     "text": [
      "Unit ids = [1 2 3 4]\n",
      "Num. events for unit 1 = 253\n",
      "Num. events for first second of unit 1 = 14\n"
     ]
    },
    {
     "data": {
      "text/plain": [
       "array([ 1396.,  1727.,  1785.,  4917.,  8282., 11792., 13455., 15190.,\n",
       "       18960., 21855., 22685., 24976., 28039., 29052.])"
      ]
     },
     "execution_count": 26,
     "metadata": {},
     "output_type": "execute_result"
    }
   ],
   "source": [
    "# We should get he same information as above\n",
    "print('Unit ids = {}'.format(SX2.getUnitIds()))\n",
    "st=SX2.getUnitSpikeTrain(unit_id=1)\n",
    "print('Num. events for unit 1 = {}'.format(len(st)))\n",
    "st1=SX2.getUnitSpikeTrain(unit_id=1,start_frame=0,end_frame=30000)\n",
    "print('Num. events for first second of unit 1 = {}'.format(len(st1)))"
   ]
  },
  {
   "cell_type": "code",
   "execution_count": 32,
   "metadata": {},
   "outputs": [
    {
     "name": "stdout",
     "output_type": "stream",
     "text": [
      "[  1396.   1727.   1785.   4917.   8282.  11792.  13455.  15190.  18960.\n",
      "  21855.  22685.  24976.  28039.  29052.  34105.  37595.  39440.  40976.\n",
      "  41969.  42388.  46291.  48909.  50595.  52553.  54204.  57644.  60252.\n",
      "  61924.  62896.  64012.  65906.  68708.  68797.  69190.  72001.  73622.\n",
      "  75325.  75722.  75819.  78342.  78414.  78448.  79108.  80029.  82388.\n",
      "  84180.  85364.  86391.  86506.  87078.  88909.  89449.  90054.  92040.\n",
      "  93696.  98511.  99425. 107916. 107951. 112079. 115130. 119020. 119217.\n",
      " 119850. 120209. 123739. 124544. 126430. 127007. 127473. 128283. 129353.\n",
      " 130975. 131454. 134865. 139799. 141141. 142918. 151693. 153436. 154353.\n",
      " 155917. 156270. 157387. 158391. 159672. 161852. 164622. 167586. 173661.\n",
      " 173954. 175345. 181142. 184627. 191652. 195621. 196943. 196974. 201291.\n",
      " 201533. 202434. 202555. 205565. 209730. 210581. 210646. 211169. 223766.\n",
      " 227829. 228968. 229131. 232805. 234704. 234717. 237936. 238813. 240868.\n",
      " 252279. 254272. 254325. 256467. 257002. 257147. 269007. 273568. 276872.\n",
      " 279798. 280501. 288129. 289057. 293309. 295658. 303373. 303802. 308511.\n",
      " 308537. 310494. 313944. 325524. 326148. 329618. 332746. 351586. 352151.\n",
      " 355460. 356754. 358156. 358810. 366171. 367261. 369166. 372551. 374677.\n",
      " 375340. 377540. 381395. 385386. 388709. 390197. 390965. 392186. 393395.\n",
      " 394117. 394258. 395500. 395722. 395806. 399307. 400273. 404890. 405366.\n",
      " 405700. 411487. 411591. 413224. 413701. 413761. 418664. 420918. 423815.\n",
      " 426352. 427465. 432420. 433827. 435299. 436498. 437126. 439452. 441960.\n",
      " 443566. 450040. 453327. 453795. 453830. 455386. 456983. 457461. 459169.\n",
      " 461849. 461885. 463185. 466815. 468223. 472145. 483371. 485086. 485229.\n",
      " 488792. 489088. 491804. 494289. 495409. 500525. 502527. 503108. 503166.\n",
      " 503334. 505108. 506554. 506986. 508587. 520251. 527163. 527329. 534339.\n",
      " 535825. 537525. 537711. 544096. 544296. 546514. 547558. 548019. 549264.\n",
      " 551839. 560047. 562403. 564763. 565419. 565688. 566414. 575177. 578166.\n",
      " 578715. 579870. 580271. 580279. 580862. 583069. 586066. 589033. 592143.\n",
      " 593978.]\n"
     ]
    }
   ],
   "source": [
    "#Calculate a unit property and store it in my SortingExtractor\n",
    "full_spike_train = SX2.getUnitSpikeTrain(unit_id=1,start_frame=0)\n",
    "print(full_spike_train)"
   ]
  },
  {
   "cell_type": "code",
   "execution_count": null,
   "metadata": {},
   "outputs": [],
   "source": []
  }
 ],
 "metadata": {
  "kernelspec": {
   "display_name": "Python 3",
   "language": "python",
   "name": "python3"
  },
  "language_info": {
   "codemirror_mode": {
    "name": "ipython",
    "version": 3
   },
   "file_extension": ".py",
   "mimetype": "text/x-python",
   "name": "python",
   "nbconvert_exporter": "python",
   "pygments_lexer": "ipython3",
   "version": "3.7.0"
  }
 },
 "nbformat": 4,
 "nbformat_minor": 2
}
