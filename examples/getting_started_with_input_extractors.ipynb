{
 "cells": [
  {
   "cell_type": "code",
   "execution_count": 1,
   "metadata": {},
   "outputs": [],
   "source": [
    "# Imports\n",
    "import numpy as np\n",
    "import spikeinterface as si"
   ]
  },
  {
   "cell_type": "code",
   "execution_count": 2,
   "metadata": {},
   "outputs": [],
   "source": [
    "# Properties of the in-memory dataset\n",
    "num_channels=7\n",
    "samplerate=30000\n",
    "duration=20\n",
    "num_timepoints=int(samplerate*duration)"
   ]
  },
  {
   "cell_type": "code",
   "execution_count": 3,
   "metadata": {},
   "outputs": [],
   "source": [
    "# Generate a pure-noise timeseries dataset and a linear geometry\n",
    "timeseries=np.random.normal(0,10,(num_channels,num_timepoints))\n",
    "geom=np.zeros((num_channels,2))\n",
    "geom[:,0]=range(num_channels)"
   ]
  },
  {
   "cell_type": "code",
   "execution_count": 4,
   "metadata": {},
   "outputs": [],
   "source": [
    "# Define the in-memory input extractor\n",
    "IX=si.NumpyInputExtractor(timeseries=timeseries,geom=geom,samplerate=samplerate)"
   ]
  },
  {
   "cell_type": "code",
   "execution_count": 5,
   "metadata": {},
   "outputs": [
    {
     "name": "stdout",
     "output_type": "stream",
     "text": [
      "Num. channels = 7\n",
      "Sampling frequency = 30000 Hz\n",
      "Num. timepoints = 600000\n",
      "Stdev. on third channel = 9.99206377601932\n",
      "Location of third electrode = [ 2.  0.]\n"
     ]
    }
   ],
   "source": [
    "# Demonstrate the API for extracting information\n",
    "print('Num. channels = {}'.format(IX.getNumChannels()))\n",
    "print('Sampling frequency = {} Hz'.format(IX.getSamplingFrequency()))\n",
    "print('Num. timepoints = {}'.format(IX.getNumFrames()))\n",
    "print('Stdev. on third channel = {}'.format(np.std(IX.getRawTraces(channel_ids=2))))\n",
    "print('Location of third electrode = {}'.format(IX.getChannelInfo(channel_id=2)['location']))"
   ]
  },
  {
   "cell_type": "code",
   "execution_count": 6,
   "metadata": {},
   "outputs": [],
   "source": [
    "# Write this dataset in the MountainSort format\n",
    "si.MdaInputExtractor.writeDataset(input_extractor=IX,output_dirname='sample_mountainsort_dataset')"
   ]
  },
  {
   "cell_type": "code",
   "execution_count": 7,
   "metadata": {},
   "outputs": [],
   "source": [
    "# Read this dataset with the Mda input extractor\n",
    "IX2=si.MdaInputExtractor(dataset_directory='sample_mountainsort_dataset')"
   ]
  },
  {
   "cell_type": "code",
   "execution_count": 8,
   "metadata": {},
   "outputs": [
    {
     "name": "stdout",
     "output_type": "stream",
     "text": [
      "Num. channels = 7\n",
      "Sampling frequency = 30000 Hz\n",
      "Num. timepoints = 600000\n",
      "Stdev. on third channel = 9.992064476013184\n",
      "Location of third electrode = [ 2.  0.]\n"
     ]
    }
   ],
   "source": [
    "# We should get he same information as above\n",
    "print('Num. channels = {}'.format(IX2.getNumChannels()))\n",
    "print('Sampling frequency = {} Hz'.format(IX2.getSamplingFrequency()))\n",
    "print('Num. timepoints = {}'.format(IX2.getNumFrames()))\n",
    "print('Stdev. on third channel = {}'.format(np.std(IX2.getRawTraces(channel_ids=2))))\n",
    "print('Location of third electrode = {}'.format(IX2.getChannelInfo(channel_id=2)['location']))"
   ]
  },
  {
   "cell_type": "code",
   "execution_count": 9,
   "metadata": {},
   "outputs": [],
   "source": [
    "# Represent a sub-dataset\n",
    "IX3=si.SubInputExtractor(parent_extractor=IX2,channel_ids=[2,3,4,5],start_frame=1000,end_frame=8000)"
   ]
  },
  {
   "cell_type": "code",
   "execution_count": 10,
   "metadata": {},
   "outputs": [
    {
     "name": "stdout",
     "output_type": "stream",
     "text": [
      "Num. channels = 4\n",
      "Sampling frequency = 30000 Hz\n",
      "Num. timepoints = 7000\n",
      "Stdev. on third channel = 10.059552192687988\n",
      "Location of third electrode = [ 4.  0.]\n"
     ]
    }
   ],
   "source": [
    "# Show the information for this sub-dataset\n",
    "print('Num. channels = {}'.format(IX3.getNumChannels()))\n",
    "print('Sampling frequency = {} Hz'.format(IX3.getSamplingFrequency()))\n",
    "print('Num. timepoints = {}'.format(IX3.getNumFrames()))\n",
    "print('Stdev. on third channel = {}'.format(np.std(IX3.getRawTraces(channel_ids=2))))\n",
    "print('Location of third electrode = {}'.format(IX3.getChannelInfo(channel_id=2)['location']))"
   ]
  },
  {
   "cell_type": "code",
   "execution_count": null,
   "metadata": {},
   "outputs": [],
   "source": []
  }
 ],
 "metadata": {
  "kernelspec": {
   "display_name": "Python 3",
   "language": "python",
   "name": "python3"
  },
  "language_info": {
   "codemirror_mode": {
    "name": "ipython",
    "version": 3
   },
   "file_extension": ".py",
   "mimetype": "text/x-python",
   "name": "python",
   "nbconvert_exporter": "python",
   "pygments_lexer": "ipython3",
   "version": "3.6.2"
  }
 },
 "nbformat": 4,
 "nbformat_minor": 2
}
