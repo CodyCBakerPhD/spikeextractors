{
 "cells": [
  {
   "cell_type": "code",
   "execution_count": 1,
   "metadata": {},
   "outputs": [],
   "source": [
    "# Imports\n",
    "import numpy as np\n",
    "import spikeinterface as si"
   ]
  },
  {
   "cell_type": "code",
   "execution_count": 2,
   "metadata": {},
   "outputs": [],
   "source": [
    "# Properties of the in-memory dataset\n",
    "num_channels=7\n",
    "samplerate=30000\n",
    "duration=20\n",
    "num_timepoints=int(samplerate*duration)"
   ]
  },
  {
   "cell_type": "code",
   "execution_count": 3,
   "metadata": {},
   "outputs": [],
   "source": [
    "# Generate a pure-noise timeseries dataset and a linear geometry\n",
    "timeseries=np.random.normal(0,10,(num_channels,num_timepoints))\n",
    "geom=np.zeros((num_channels,2))\n",
    "geom[:,0]=range(num_channels)"
   ]
  },
  {
   "cell_type": "code",
   "execution_count": 4,
   "metadata": {},
   "outputs": [],
   "source": [
    "# Define the in-memory recording extractor\n",
    "RX=si.NumpyRecordingExtractor(timeseries=timeseries,geom=geom,samplerate=samplerate)"
   ]
  },
  {
   "cell_type": "code",
   "execution_count": 5,
   "metadata": {},
   "outputs": [
    {
     "name": "stdout",
     "output_type": "stream",
     "text": [
      "Num. channels = 7\n",
      "Sampling frequency = 30000.0 Hz\n",
      "Num. timepoints = 600000\n",
      "Stdev. on third channel = 9.998151305120457\n",
      "Location of third electrode = [2. 0.]\n"
     ]
    }
   ],
   "source": [
    "# Demonstrate the API for extracting information\n",
    "print('Num. channels = {}'.format(RX.getNumChannels()))\n",
    "print('Sampling frequency = {} Hz'.format(RX.getSamplingFrequency()))\n",
    "print('Num. timepoints = {}'.format(RX.getNumFrames()))\n",
    "print('Stdev. on third channel = {}'.format(np.std(RX.getTraces(channel_ids=2))))\n",
    "print('Location of third electrode = {}'.format(RX.getChannelInfo(channel_id=2)['location']))"
   ]
  },
  {
   "cell_type": "code",
   "execution_count": 6,
   "metadata": {},
   "outputs": [],
   "source": [
    "# Write this dataset in the MountainSort format\n",
    "si.MdaRecordingExtractor.writeRecording(recording_extractor=RX,save_path='sample_mountainsort_dataset')"
   ]
  },
  {
   "cell_type": "code",
   "execution_count": 7,
   "metadata": {},
   "outputs": [],
   "source": [
    "# Read this dataset with the Mda recording extractor\n",
    "RX2=si.MdaRecordingExtractor(dataset_directory='sample_mountainsort_dataset')"
   ]
  },
  {
   "cell_type": "code",
   "execution_count": 8,
   "metadata": {},
   "outputs": [
    {
     "name": "stdout",
     "output_type": "stream",
     "text": [
      "Num. channels = 7\n",
      "Sampling frequency = 30000.0 Hz\n",
      "Num. timepoints = 600000\n",
      "Stdev. on third channel = 9.998151779174805\n",
      "Location of third electrode = [2. 0.]\n"
     ]
    }
   ],
   "source": [
    "# We should get he same information as above\n",
    "print('Num. channels = {}'.format(RX2.getNumChannels()))\n",
    "print('Sampling frequency = {} Hz'.format(RX2.getSamplingFrequency()))\n",
    "print('Num. timepoints = {}'.format(RX2.getNumFrames()))\n",
    "print('Stdev. on third channel = {}'.format(np.std(RX2.getTraces(channel_ids=2))))\n",
    "print('Location of third electrode = {}'.format(RX2.getChannelInfo(channel_id=2)['location']))"
   ]
  },
  {
   "cell_type": "code",
   "execution_count": 12,
   "metadata": {},
   "outputs": [],
   "source": [
    "#Putting Epochs into our recording (Adding a name to a time period in the recording)\n",
    "RX2.addEpoch(epoch_name='stimulation', start_frame=1000, end_frame=6000)\n",
    "RX2.addEpoch(epoch_name='post_stimulation', start_frame=6000, end_frame=10000)\n",
    "RX2.addEpoch(epoch_name='pre_stimulation', start_frame=0, end_frame=1000)"
   ]
  },
  {
   "cell_type": "code",
   "execution_count": 13,
   "metadata": {},
   "outputs": [
    {
     "data": {
      "text/plain": [
       "['pre_stimulation', 'stimulation', 'post_stimulation']"
      ]
     },
     "execution_count": 13,
     "metadata": {},
     "output_type": "execute_result"
    }
   ],
   "source": [
    "#Check Epoch names in our recording\n",
    "RX2.getEpochNames()"
   ]
  },
  {
   "cell_type": "code",
   "execution_count": 31,
   "metadata": {},
   "outputs": [
    {
     "name": "stdout",
     "output_type": "stream",
     "text": [
      "Epoch Name = stimulation\n",
      "Start Frame = 1000\n",
      "End Frame = 6000\n",
      "Mean. on second channel during stimulation = 0.23142407834529877\n"
     ]
    }
   ],
   "source": [
    "#Return a SubRecordingExtractor that is a view to our epoch. Can view info about it in parent extractor\n",
    "RX3 = RX2.getEpoch(epoch_name='stimulation')\n",
    "epoch_info = RX2.getEpochInfo('stimulation')\n",
    "start_frame = epoch_info['start_frame']\n",
    "end_frame = epoch_info['end_frame']\n",
    "\n",
    "print('Epoch Name = stimulation')\n",
    "print('Start Frame = {}'.format(start_frame))\n",
    "print('End Frame = {}'.format(end_frame))\n",
    "print('Mean. on second channel during stimulation = {}'.format(np.mean(RX3.getTraces(channel_ids=1))))"
   ]
  },
  {
   "cell_type": "code",
   "execution_count": 34,
   "metadata": {},
   "outputs": [
    {
     "data": {
      "text/plain": [
       "[]"
      ]
     },
     "execution_count": 34,
     "metadata": {},
     "output_type": "execute_result"
    }
   ],
   "source": [
    "RX3.getEpochNames()"
   ]
  },
  {
   "cell_type": "code",
   "execution_count": 32,
   "metadata": {},
   "outputs": [],
   "source": [
    "# Can extract an arbitrary subset of your data/channels manually without epoch functionality\n",
    "RX4=si.SubRecordingExtractor(parent_extractor=RX2,channel_ids=[2,3,4,5],start_frame=14000,end_frame=16000)"
   ]
  },
  {
   "cell_type": "code",
   "execution_count": 18,
   "metadata": {},
   "outputs": [
    {
     "name": "stdout",
     "output_type": "stream",
     "text": [
      "Num. channels = 4\n",
      "Sampling frequency = 30000.0 Hz\n",
      "Num. timepoints = 2000\n",
      "Stdev. on third channel = 9.829893112182617\n",
      "Location of third electrode = [4. 0.]\n"
     ]
    }
   ],
   "source": [
    "# Show the information for this sub-dataset\n",
    "print('Num. channels = {}'.format(RX4.getNumChannels()))\n",
    "print('Sampling frequency = {} Hz'.format(RX4.getSamplingFrequency()))\n",
    "print('Num. timepoints = {}'.format(RX4.getNumFrames()))\n",
    "print('Stdev. on third channel = {}'.format(np.std(RX4.getTraces(channel_ids=2))))\n",
    "print('Location of third electrode = {}'.format(RX4.getChannelInfo(channel_id=2)['location']))"
   ]
  },
  {
   "cell_type": "code",
   "execution_count": null,
   "metadata": {},
   "outputs": [],
   "source": []
  }
 ],
 "metadata": {
  "kernelspec": {
   "display_name": "Python 3",
   "language": "python",
   "name": "python3"
  },
  "language_info": {
   "codemirror_mode": {
    "name": "ipython",
    "version": 3
   },
   "file_extension": ".py",
   "mimetype": "text/x-python",
   "name": "python",
   "nbconvert_exporter": "python",
   "pygments_lexer": "ipython3",
   "version": "3.7.0"
  }
 },
 "nbformat": 4,
 "nbformat_minor": 2
}
