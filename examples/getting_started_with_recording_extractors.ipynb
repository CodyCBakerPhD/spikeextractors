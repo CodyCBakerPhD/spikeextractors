{
 "cells": [
  {
   "cell_type": "code",
   "execution_count": 1,
   "metadata": {},
   "outputs": [],
   "source": [
    "# Imports\n",
    "import numpy as np\n",
    "import spikeinterface as si"
   ]
  },
  {
   "cell_type": "code",
   "execution_count": 2,
   "metadata": {},
   "outputs": [],
   "source": [
    "# Properties of the in-memory dataset\n",
    "num_channels=7\n",
    "samplerate=30000\n",
    "duration=20\n",
    "num_timepoints=int(samplerate*duration)"
   ]
  },
  {
   "cell_type": "code",
   "execution_count": 3,
   "metadata": {},
   "outputs": [],
   "source": [
    "# Generate a pure-noise timeseries dataset and a linear geometry\n",
    "timeseries=np.random.normal(0,10,(num_channels,num_timepoints))\n",
    "geom=np.zeros((num_channels,2))\n",
    "geom[:,0]=range(num_channels)"
   ]
  },
  {
   "cell_type": "code",
   "execution_count": 7,
   "metadata": {},
   "outputs": [],
   "source": [
    "# Define the in-memory recording extractor\n",
    "RX=si.NumpyRecordingExtractor(timeseries=timeseries,geom=geom,samplerate=samplerate)"
   ]
  },
  {
   "cell_type": "code",
   "execution_count": 9,
   "metadata": {},
   "outputs": [
    {
     "name": "stdout",
     "output_type": "stream",
     "text": [
      "Num. channels = 7\n",
      "Sampling frequency = 30000 Hz\n",
      "Num. timepoints = 600000\n",
      "Stdev. on third channel = 10.00845104974044\n",
      "Location of third electrode = [2. 0.]\n"
     ]
    }
   ],
   "source": [
    "# Demonstrate the API for extracting information\n",
    "print('Num. channels = {}'.format(RX.getNumChannels()))\n",
    "print('Sampling frequency = {} Hz'.format(RX.getSamplingFrequency()))\n",
    "print('Num. timepoints = {}'.format(RX.getNumFrames()))\n",
    "print('Stdev. on third channel = {}'.format(np.std(RX.getTraces(channel_ids=2))))\n",
    "print('Location of third electrode = {}'.format(RX.getChannelInfo(channel_id=2)['location']))"
   ]
  },
  {
   "cell_type": "code",
   "execution_count": 10,
   "metadata": {},
   "outputs": [],
   "source": [
    "# Write this dataset in the MountainSort format\n",
    "si.MdaRecordingExtractor.writeRecordedData(recording_extractor=RX,output_dirname='sample_mountainsort_dataset')"
   ]
  },
  {
   "cell_type": "code",
   "execution_count": 11,
   "metadata": {},
   "outputs": [],
   "source": [
    "# Read this dataset with the Mda recording extractor\n",
    "RX2=si.MdaRecordingExtractor(dataset_directory='sample_mountainsort_dataset')"
   ]
  },
  {
   "cell_type": "code",
   "execution_count": 13,
   "metadata": {},
   "outputs": [
    {
     "name": "stdout",
     "output_type": "stream",
     "text": [
      "Num. channels = 7\n",
      "Sampling frequency = 30000 Hz\n",
      "Num. timepoints = 600000\n",
      "Stdev. on third channel = 10.008451461791992\n",
      "Location of third electrode = [2. 0.]\n"
     ]
    }
   ],
   "source": [
    "# We should get he same information as above\n",
    "print('Num. channels = {}'.format(RX2.getNumChannels()))\n",
    "print('Sampling frequency = {} Hz'.format(RX2.getSamplingFrequency()))\n",
    "print('Num. timepoints = {}'.format(RX2.getNumFrames()))\n",
    "print('Stdev. on third channel = {}'.format(np.std(RX2.getTraces(channel_ids=2))))\n",
    "print('Location of third electrode = {}'.format(RX2.getChannelInfo(channel_id=2)['location']))"
   ]
  },
  {
   "cell_type": "code",
   "execution_count": 14,
   "metadata": {},
   "outputs": [],
   "source": [
    "# Represent a sub-dataset\n",
    "RX3=si.SubRecordingExtractor(parent_extractor=RX2,channel_ids=[2,3,4,5],start_frame=1000,end_frame=8000)"
   ]
  },
  {
   "cell_type": "code",
   "execution_count": 15,
   "metadata": {},
   "outputs": [
    {
     "name": "stdout",
     "output_type": "stream",
     "text": [
      "Num. channels = 4\n",
      "Sampling frequency = 30000 Hz\n",
      "Num. timepoints = 7000\n",
      "Stdev. on third channel = 10.011518478393555\n",
      "Location of third electrode = [4. 0.]\n"
     ]
    }
   ],
   "source": [
    "# Show the information for this sub-dataset\n",
    "print('Num. channels = {}'.format(RX3.getNumChannels()))\n",
    "print('Sampling frequency = {} Hz'.format(RX3.getSamplingFrequency()))\n",
    "print('Num. timepoints = {}'.format(RX3.getNumFrames()))\n",
    "print('Stdev. on third channel = {}'.format(np.std(RX3.getTraces(channel_ids=2))))\n",
    "print('Location of third electrode = {}'.format(RX3.getChannelInfo(channel_id=2)['location']))"
   ]
  },
  {
   "cell_type": "code",
   "execution_count": null,
   "metadata": {},
   "outputs": [],
   "source": []
  }
 ],
 "metadata": {
  "kernelspec": {
   "display_name": "Python 3",
   "language": "python",
   "name": "python3"
  },
  "language_info": {
   "codemirror_mode": {
    "name": "ipython",
    "version": 3
   },
   "file_extension": ".py",
   "mimetype": "text/x-python",
   "name": "python",
   "nbconvert_exporter": "python",
   "pygments_lexer": "ipython3",
   "version": "3.7.0"
  }
 },
 "nbformat": 4,
 "nbformat_minor": 2
}
